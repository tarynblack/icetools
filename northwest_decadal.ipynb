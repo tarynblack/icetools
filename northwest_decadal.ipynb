{
 "metadata": {
  "language_info": {
   "codemirror_mode": {
    "name": "ipython",
    "version": 3
   },
   "file_extension": ".py",
   "mimetype": "text/x-python",
   "name": "python",
   "nbconvert_exporter": "python",
   "pygments_lexer": "ipython3",
   "version": "3.8.5-final"
  },
  "orig_nbformat": 2,
  "kernelspec": {
   "name": "Python 3.8.5 64-bit",
   "display_name": "Python 3.8.5 64-bit",
   "metadata": {
    "interpreter": {
     "hash": "916dbcbb3f70747c44a77c7bcd40155683ae19c65e1c03b4aa3499c5328201f1"
    }
   }
  }
 },
 "nbformat": 4,
 "nbformat_minor": 2,
 "cells": [
  {
   "source": [
    "# Annual outlet glacier terminus positions in northwestern Greenland\n"
   ],
   "cell_type": "markdown",
   "metadata": {}
  },
  {
   "source": [
    "# Abstract\n",
    "`...`"
   ],
   "cell_type": "markdown",
   "metadata": {}
  },
  {
   "cell_type": "code",
   "execution_count": null,
   "metadata": {},
   "outputs": [],
   "source": [
    "# Import modules\n",
    "import os\n",
    "import geopandas as gpd\n",
    "import pandas as pd\n",
    "import manage\n",
    "import glaciermetrics as gm\n",
    "import matplotlib.pyplot as plt\n",
    "import gplots as gp\n",
    "import importlib"
   ]
  },
  {
   "cell_type": "code",
   "execution_count": null,
   "metadata": {},
   "outputs": [],
   "source": [
    "# User-specified parameters\n",
    "\n",
    "# Relative path for file geodatabase containing glacier information\n",
    "fgdb = '/gis-data/nwgreenland_decadal.gdb'\n",
    "\n",
    "# File geodatabase layer names\n",
    "termini_layer = 'annual_termini'\n",
    "points_layer = 'glacier_points'\n",
    "boxes_layer = 'glacier_boxes'\n",
    "\n",
    "# Relative path to save analysis output\n",
    "outpath = '/analysis/'\n",
    "\n",
    "# Other data files\n",
    "mask_file = '/gis-data/GimpOceanMask_90m/GimpOceanMask_90m.shp'"
   ]
  },
  {
   "cell_type": "code",
   "execution_count": null,
   "metadata": {},
   "outputs": [],
   "source": [
    "# Load files\n",
    "cwd = os.getcwd()\n",
    "\n",
    "termini = gpd.read_file(cwd+fgdb, layer=termini_layer, driver='FileGDB')\n",
    "\n",
    "points = gpd.read_file(cwd+fgdb, layer=points_layer, driver='FileGDB')\n",
    "points.sort_values(by='Glacier_ID', inplace=True)\n",
    "points.set_index('Glacier_ID', drop=False, inplace=True)\n",
    "\n",
    "refboxes = gpd.read_file(cwd+fgdb, layer=boxes_layer, driver='FileGDB')\n",
    "refboxes.sort_values(by='Glacier_ID', inplace=True)\n",
    "refboxes.set_index('Glacier_ID', drop=False, inplace=True)\n",
    "\n",
    "gimp = gpd.read_file(cwd+mask_file)\n",
    "gimp.to_crs(epsg=3574)"
   ]
  },
  {
   "cell_type": "code",
   "execution_count": null,
   "metadata": {},
   "outputs": [],
   "source": [
    "# Get scope of glaciers and time\n",
    "\n",
    "GIDS = points.Glacier_ID.values\n",
    "\n",
    "termini['Year'] = pd.to_datetime(termini['Year'], format='%Y')\n",
    "YEAR_START = termini.Year.min().year\n",
    "YEAR_END = termini.Year.max().year\n",
    "YEARS = range(YEAR_START, YEAR_END)\n",
    "\n",
    "DATE_START = termini.Source_Date.min()\n",
    "DATE_END = termini.Source_Date.max()"
   ]
  },
  {
   "cell_type": "code",
   "execution_count": null,
   "metadata": {},
   "outputs": [],
   "source": [
    "# Initialize dictionary of Glacier objects to store glacier information\n",
    "\n",
    "all_glaciers = {id: manage.Glacier(id) for id in GIDS}\n",
    "for id in all_glaciers:\n",
    "    all_glaciers[id].refbox = refboxes.loc[id].geometry\n",
    "    all_glaciers[id].officialname = points.loc[id].Official_Name\n",
    "    all_glaciers[id].greenlandicname = points.loc[id].Greenlandic_Name\n",
    "    all_glaciers[id].alternativename = points.loc[id].Alternative_Name\n",
    "    "
   ]
  },
  {
   "cell_type": "code",
   "execution_count": null,
   "metadata": {
    "tags": []
   },
   "outputs": [],
   "source": [
    "# Construct an observation time series for each glacier\n",
    "\n",
    "for id in GIDS:\n",
    "\n",
    "    # Get reference line and all observations for glacier ID\n",
    "    glacier = termini.query('Glacier_ID == @id')\n",
    "    refbox = all_glaciers[id].refbox\n",
    "\n",
    "    # Loop through all observations and process data\n",
    "    for n in range(len(glacier)):\n",
    "        observation = glacier.iloc[n]\n",
    "\n",
    "        # Create a Terminus Observation for a row in geodataframe\n",
    "        obs = manage.TerminusObservation(gid=int(observation.Glacier_ID),\n",
    "                                         qflag=observation.Quality_Flag,\n",
    "                                         imageid=observation.Image_ID,\n",
    "                                         sensor=observation.Sensor,\n",
    "                                         date=pd.to_datetime(observation.Source_Date),\n",
    "                                         year=observation.Year,\n",
    "                                         geometry=observation.geometry,\n",
    "                                         termination='',\n",
    "                                         circadiandate='')\n",
    "        \n",
    "        # Calculate glacier area against reference box\n",
    "        obs.area = gm.glacierArea(obs, refbox)\n",
    "        obs.width = gm.terminusWidth(obs, refbox)\n",
    "        obs.length = obs.area / obs.width\n",
    "\n",
    "        # Add glacier observation to time series\n",
    "        all_glaciers[id].add_observation(obs)\n",
    "\n",
    "    # Ensure that all observations are sorted by date\n",
    "    all_glaciers[id].sort_by_date()\n",
    "\n",
    "    # Extract time series of area and dates from all observations\n",
    "    all_glaciers[id].areas = all_glaciers[id].extract('area')\n",
    "    all_glaciers[id].widths = all_glaciers[id].extract('width')\n",
    "    all_glaciers[id].lengths = all_glaciers[id].extract('length')\n",
    "    all_glaciers[id].dates = all_glaciers[id].extract('date')\n",
    "    all_glaciers[id].hydroyears = all_glaciers[id].extract('hydroyear')\n",
    "    all_glaciers[id].dayofhydroyear = all_glaciers[id].extract('dayofhydroyear')\n",
    "    all_glaciers[id].seasons = all_glaciers[id].extract('season')\n",
    "\n",
    "    # Interpolate missing data between observations of area, term. area, length\n",
    "    all_glaciers[id].interpareas = all_glaciers[id].interpolateMeasurements('area', YEARS)\n",
    "    all_glaciers[id].interptermareas = all_glaciers[id].interpolateMeasurements('termarea', YEARS)\n",
    "    all_glaciers[id].interplengths = all_glaciers[id].interpolateMeasurements('length', YEARS)\n",
    "    all_glaciers[id].interpyears = all_glaciers[id].getInterpolatedYears('area', YEARS)"
   ]
  },
  {
   "source": [
    "# 1. Introduction\n",
    "\n",
    "```Outlet glacier discharge contributes to GrIS mass loss and acceleration (SLR). How much of GrIS mass loss is discharge vs. runoff? (this is why we care about terminus positions)```\n",
    "\n",
    "```What are some proposed forcing mechanisms that control outlet glacier terminus position/change? How do they work? But we need to better understand terminus position changes over time in order to nail down forcing mechanisms.```\n",
    "\n",
    "```Previous studies have looked at changes in terminus position over time, but they are generally sampling across either time or space, not both. References for NW GrIS - Twila, Michaela```\n",
    "\n",
    "```In this paper we fill observational gap and sample across both space and time. Multidecadal annual record of terminus positions for 87 outlet glaciers in NW Greenland. Assess overall trends, regional variations in behavior, correlations with climatic factors.```"
   ],
   "cell_type": "markdown",
   "metadata": {}
  },
  {
   "source": [
    "# 2. Data and Methods\n",
    "\n",
    "We used both synthetic aperture radar (SAR) and optical satellite images to trace annual terminus positions for 87 outlet glaciers in northwestern Greenland (68.9&deg; N to 78.2&deg; N) from 1972 through 2019."
   ],
   "cell_type": "markdown",
   "metadata": {}
  },
  {
   "source": [
    "## 2.1 Satellite Images\n",
    "We obtained terminus positions from SAR images taken by the Sentinel-1 and Radarsat-1 satellites for 11 of the 47 years in our record. These satellites use C-Band wavelengths, which allows them to image the surface regardless of clouds or darkness. For the most recent six years (2014-2015 through 2019-2020), we traced terminus positions in mosaics of contemporaneous Copernicus Sentinel-1A/B images (`Joughin et al., 2016`). These mosaics are typically created from images acquired in early February of their respective years and have 50-m resolution. Radarsat-1 mosaics were used to trace terminus positions for six winter (2000-2001, 2005-2009, 2012-2013) (`Joughin et al., 2017`; `Moon & Joughin, 2008`). These mosaics are formed from images collected from October through March and have nominal resolutions of 20 m.\n",
    "\n",
    "We used imagery from all Landsat missions to map terminus positions for the remaining 36 years in our record, and for individual glaciers that were missing from or indiscernible in the SAR imagery. The majority of Landsat images used are from spring (March - May), although all months except January and December are represented. The resolution of these images ranges from 15 m (Landsat 8 panchromatic band) to 60 m (Landsat 1-5 Multispectral Scanner). We prescreened images in the USGS Global Visualization Viewer (GloVis) to confirm that glaciers of interest were not obscured by clouds and that the images were georeferenced well. Improper georeferencing can be an issue with older Landsat imges, so we compared our prospective images against known well-georeferenced images to ensure their accuracy. Due to winter darkness, it was not possible to select images from the same time of year as the SAR mosaics; instead, we chose images as close to winter as possible, with a preference for spring over fall to capture a more winter-like state to reduce the effects of seasonal variation. Because of the difficulty in finding sunlit, cloud-free imagery over each glacier, we could not acquire images at the same time every year for a given glacier, and for several years there was no viable imagery at all for some glaciers."
   ],
   "cell_type": "markdown",
   "metadata": {}
  },
  {
   "source": [
    "## 2.2 Terminus Positions\n",
    "We used GIS software to manually trace annual terminus positions from satellite imagery for 87 outlet glaciers in northwestern Greenland from 1972 through 2019. This dataset builds on a preexisting dataset covering six winters between 2000 and 2012 (`Joughin et al., 2017`; `Moon & Joughin, 2008`). The study are ranges from Saqqarliup Sermia (68.9&deg; N, 50.3&deg; W; ~35 km southwest of Jakobshavn Isbr&aelig;) to Bamse Gletsjer (78.2&deg; N, 72.7&deg; W) ([Fig. 1](#Figure-1)). We selected marine-terminating outlet glaciers that are at least ~1.5 km wide at the terminus and are flowing at least ~1000 m a&#8315;&sup1;. We traced each glacier's terminus position once per hydrological year (September 1 through August 31 (`Ettema et al., 2009`)) in every year for which suitable imagery was available. We used winter or near-winter imagery whenever possible, although for some glaciers and years, suitable imagery was only available in the summer ([Fig. 2](#Figure-2))."
   ],
   "cell_type": "markdown",
   "metadata": {}
  },
  {
   "source": [
    "#### Figure 1\n",
    "**Northwest Greenland study area**\n",
    "* `include glacier zones that are used in ancillary data`\n",
    "* `also include velocity maps as part of the location map - there's a 20-year one in the gimp dataset that is pretty clean`"
   ],
   "cell_type": "markdown",
   "metadata": {}
  },
  {
   "cell_type": "code",
   "execution_count": null,
   "metadata": {},
   "outputs": [],
   "source": [
    "fig = plt.figure(figsize=(10,3))\n",
    "ax = fig.add_axes([0., 0., 1., 1.])\n",
    "ax.set_aspect('equal')\n",
    "\n",
    "# Plot Greenland outline\n",
    "gimp.plot(ax=ax, linewidth=0.2, color='silver')\n",
    "\n",
    "# Plot glacier points on Greenland outline\n",
    "points.plot(ax=ax, markersize=3, color='teal', linewidth=0.2, edgecolor='black')\n",
    "\n",
    "# Set map boundaries based on observed region\n",
    "bounds = points.geometry.bounds\n",
    "bound_buffer = 50000\n",
    "ax.set_xlim([bounds.minx.min()-bound_buffer, bounds.maxx.max()+bound_buffer])\n",
    "ax.set_ylim([bounds.miny.min()-bound_buffer, bounds.maxy.max()+bound_buffer])\n",
    "ax.axis('off')\n",
    "\n",
    "# plt.savefig('{}NWGr_study_area.png'.format(outpath), \\\n",
    "    # bbox_inches='tight')"
   ]
  },
  {
   "source": [
    "Errors in terminus position may arise from the imagery used and digitization errors. The primary sources of image errors are orthorectification and georeferencing. To reduce such errors, candidate images were compared with control images and discarded if they were noticeably offset or distorted. Digitization errors could derive from orthorectification, image resolution, manual tracing errors, or uncertain terminus location in imagery (due to _e.g._ shadows or an indistinct transition from glacier to m\\eacutelange) (`Joughin et al., 2017`). Uncertain terminus positions were flagged during tracing, and were compared with close-in-time images from the same or other satellite platforms when possible.\n",
    "\n",
    "In addition to errors associated with digitization of the images, there is additional uncertainty introduced by sampling seasonal variability at different times of year. For the terminus positions mapped from Landsat imagery, it was not possible to get sunlit and cloud-free images over each glacier at the same time every year, and in some years there was no viable imagery ([Fig. 2](#Figure-2)). This timing variation complicates the year-to-year comparison of glacier areas for any glaciers which might have seasonal variability in terminus position.\n",
    "* `need some kind of error assessment. Refer to Twila work on errors (quantification)`\n",
    "* `address season issue with monthly positions to constrain annual variability`"
   ],
   "cell_type": "markdown",
   "metadata": {}
  },
  {
   "source": [
    "#### Figure 2\n",
    "\n",
    "**Terminus records**: annual observations (filled circle) and interpolations (empty circle) for each glacier. Red line indicates first year in which all glaciers have either an observed or interpolated measurement.\n",
    "\n",
    "- `TODO: fix to not interpolate for 2020`\n",
    "- `TODO: plot season as color rather than all blue`"
   ],
   "cell_type": "markdown",
   "metadata": {}
  },
  {
   "cell_type": "code",
   "execution_count": null,
   "metadata": {},
   "outputs": [],
   "source": [
    "importlib.reload(gp)\n",
    "fig = plt.figure(figsize=(11, 6))\n",
    "gp.annualObservations(fig, all_glaciers, YEARS, show_firstyear=True)\n",
    "# plt.savefig('{}observation_timeseries.png'.format(outpath), \\\n",
    "    # bbox_inches='tight')"
   ]
  },
  {
   "source": [
    "## 2.3 Glacier Area Change\n",
    "We calculated glacier area change over time using the box method (`Moon & Joughin, 2008`). Each glacier has a static, open-ended rerference box that approximately delineates the main region of ice flow. The box sides are roughly parallel to ice flow, and the box 'back' is perpendicular to ice flow at an arbitrary location up-glacier of the extent of maximum observed terminus retreat. Where a terminus trace intersects the open end of the box, a polygon is formed, and the area of that polygon represents the glacier's reference area at that point in time. Repeating this process for each terminus trace for a glacier forms a time series of reference areas, from which we determine the annual area change. While the areas are arbitrarily determined by the box size, the area differences between successive terminus traces represent the annual gain or loss of area.\n",
    "\n",
    "Errors in the area change calculation may come from inaccurate and missing terminus observations, and from possible seasonal variability of terminus locations. In years where no observations were made, we linearly interpolated between the prior and subsequent observations to estimate glacier areas during the missing years ([Fig. 2b](#figure-2b)). For glaciers with missing observations in the beginning of the record, we did not interpolate prior to the first observation in the record.\n",
    "\n",
    "```Another source of error might be seasonal variability. Do this analysis... Note that seasonal variability could provide some short-term variability but it should even out over longer periods.```\n",
    "```Say something about how focusing on area change removes the arbitrariness of how the box is drawn. It's hard to compare glaciers of different sizes; doesn't account for terminus width vs area change (look at length changes). Check that all traces were converted to areas.```\n",
    "\n",
    "In order to compare area change trends between glaciers of different sizes, we also determined the percent area change over time for each glacier. In an individual glacier area time series, we set the minimum glacier area as 0% and the maximum glacier area as 100%, and linearly scaled the other measured areas between those set points. This method places every glacier on the same 0-100% scale and excludes the arbitrariness of the glacier box size, allowing straightforward comparison of glacier area changes. `MOVE TO RESULTS!` `Make clear the purpose of doing this - to show timing similarities for different glaciers without the changes being swamped by large glaciers. Some glaciers tend to dominate; to look at individual glaciers we did this...`"
   ],
   "cell_type": "markdown",
   "metadata": {}
  },
  {
   "source": [
    "# 3. Results\n",
    "`...`"
   ],
   "cell_type": "markdown",
   "metadata": {}
  },
  {
   "cell_type": "code",
   "execution_count": null,
   "metadata": {},
   "outputs": [],
   "source": [
    "print(\"Number of terminus positions traced: \", len(termini))\n",
    "print(\"Number of glaciers: \", len(termini.Glacier_ID.unique()))\n",
    "print(\"First date observed: \", termini.Source_Date.min())\n",
    "print(\"Last date observed: \", termini.Source_Date.max())\n",
    "print(\"Median number of observations per glacier: \", len(termini)/len(termini.Glacier_ID.unique()))\n",
    "print(\"First year of full observations/interpolations: \", gm.firstFullYear(all_glaciers))"
   ]
  },
  {
   "source": [
    "## 3.1 Terminus Positions\n",
    "We created a dataset of 3511 annual terminus positions for our 87 selected glaciers from 1972 through 2019. The median number of annual observations per glacier is 39, and nearly all glaciers were observed in 36 to 44 of the 47 years examined. Only three glaciers have fewer (31-32) observations; these glaciers are located just south of Thule Air Force Base and have limited imagery available in the 1980s and early 1990s. After interpolating area changes between glacier observations, the first year with either an observation or an interpolation available for each glacier is 1977-1978. Therefore, in this paper our analyses start in this year except where noted.\n",
    "\n",
    "` Figure 3 - area, length, normalized`"
   ],
   "cell_type": "markdown",
   "metadata": {}
  },
  {
   "cell_type": "code",
   "execution_count": null,
   "metadata": {},
   "outputs": [],
   "source": [
    "glacier = all_glaciers[15]\n",
    "\n",
    "# Plot relative area over time\n",
    "fig = plt.figure(figsize=(7, 4.5))\n",
    "gp.totalRelativeMeasure(fig, glacier, 'area')"
   ]
  },
  {
   "cell_type": "code",
   "execution_count": null,
   "metadata": {},
   "outputs": [],
   "source": [
    "# Plot relative length over time\n",
    "fig = plt.figure(figsize=(7, 4.5))\n",
    "gp.totalRelativeMeasure(fig, glacier, 'length')"
   ]
  },
  {
   "source": [
    "## 3.2 Ancillary Climate Data\n",
    "`...`"
   ],
   "cell_type": "markdown",
   "metadata": {}
  },
  {
   "source": [
    "### 3.2.1 Surface Mass Balance\n",
    "` - look at melt or runoff directly`\n",
    "` - more melt occurring... hydrofracture?`\n",
    "` - "
   ],
   "cell_type": "markdown",
   "metadata": {}
  },
  {
   "source": [
    "### 3.2.2 Ocean Temperature\n",
    "`...`\n",
    "` - look at Ecco?`\n",
    "` - plot the variance with the data`"
   ],
   "cell_type": "markdown",
   "metadata": {}
  },
  {
   "source": [
    "### 3.2.3 Sea Ice Concentration\n",
    "` - annual average as line plot`\n",
    "` - length of sea ice season`"
   ],
   "cell_type": "markdown",
   "metadata": {}
  },
  {
   "source": [
    "### 3.2.4 Sea Surface Temperature\n",
    "`...`"
   ],
   "cell_type": "markdown",
   "metadata": {}
  },
  {
   "source": [
    "# 4. Discussion"
   ],
   "cell_type": "markdown",
   "metadata": {}
  },
  {
   "source": [
    "# 5. Conclusions"
   ],
   "cell_type": "markdown",
   "metadata": {}
  },
  {
   "source": [
    "# 6. Data Sources\n",
    "\n",
    "Sentinel-1: European Space Agency, Copernicus Program. Mosaics from NSIDC/MEaSUREs/GIMP [https://nsidc.org/data/nsidc-0723/versions/2](https://nsidc.org/data/nsidc-0723/versions/2).\n",
    "\n",
    "Radarsat-1: Canadian Space Agency. Terminus traces from Joughin et al. (2017) and Moon & Joughin (2008).\n",
    "\n",
    "Landsat 1-5, 7, 8: NASA/USGS, Landsat Program. Images identified with USGS GloVis [http://glovis.usgs.gov/](http://glovis.usgs.gov/) and downloaded from Google Cloud Platform [https://console.cloud.google.com/storage/browser/gcp-public-data-landsat](https://console.cloud.google.com/storage/browser/gcp-public-data-landsat).\n",
    "\n",
    "RACMO – unpublished data, Brice Noël\n",
    "\n",
    "Ocean temperatures: ICES Dataset on Ocean Hydrography (ICES, 2014) [http://www.ices.dk/marine-data/data-portals/Pages/ocean.aspx](http://www.ices.dk/marine-data/data-portals/Pages/ocean.aspx)\n",
    "\n",
    "Sea ice concentration: NOAA/NSIDC Climate Data Record of Passive Microwave Sea Ice Concentration, Version 3 [https://nsidc.org/data/g02202](https://nsidc.org/data/g02202).\n"
   ],
   "cell_type": "markdown",
   "metadata": {}
  },
  {
   "cell_type": "code",
   "execution_count": null,
   "metadata": {},
   "outputs": [],
   "source": []
  }
 ]
}